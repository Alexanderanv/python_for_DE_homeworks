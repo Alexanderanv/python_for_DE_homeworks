{
 "cells": [
  {
   "cell_type": "code",
   "execution_count": 11,
   "metadata": {},
   "outputs": [],
   "source": [
    "from pyspark.sql import functions as F\n",
    "import time\n",
    "from sdv.single_table import GaussianCopulaSynthesizer\n",
    "from sdv.metadata import Metadata\n",
    "import pandas as pd\n",
    "from pyspark.sql import SparkSession\n",
    "\n",
    "path = './materials/hw_10/'\n",
    "df = pd.read_csv(path + 'electronic_devices.csv')\n",
    "df['addons'] = df['addons'].fillna('')\n",
    "df['addons'] = df['addons'].apply(lambda x: len(x.split(',')))\n"
   ]
  },
  {
   "cell_type": "code",
   "execution_count": 12,
   "metadata": {},
   "outputs": [
    {
     "name": "stderr",
     "output_type": "stream",
     "text": [
      "/home/alexde/DE/python_for_DE/venv/lib/python3.12/site-packages/sdv/single_table/base.py:104: UserWarning: We strongly recommend saving the metadata using 'save_to_json' for replicability in future SDV versions.\n",
      "  warnings.warn(\n"
     ]
    }
   ],
   "source": [
    "metadata = Metadata.detect_from_dataframe(\n",
    "    data=df,\n",
    "    table_name='electronic_devices')\n",
    "\n",
    "synthesizer = GaussianCopulaSynthesizer(metadata)\n",
    "synthesizer.fit(df)\n",
    "\n",
    "synthetic_data = synthesizer.sample(num_rows=1_000_000)\n",
    "synthetic_data.to_csv(path + 'generated_electronic_devices.csv', index=False)"
   ]
  },
  {
   "cell_type": "code",
   "execution_count": 13,
   "metadata": {},
   "outputs": [
    {
     "name": "stderr",
     "output_type": "stream",
     "text": [
      "                                                                                \r"
     ]
    }
   ],
   "source": [
    "spark = SparkSession.builder \\\n",
    "    .appName(\"Electronic Devices Analysis\") \\\n",
    "    .getOrCreate()\n",
    "\n",
    "spark.sparkContext.setCheckpointDir(path)\n",
    "\n",
    "df_spark = spark.read.csv(\n",
    "    path + 'generated_electronic_devices.csv', header=True, inferSchema=True)\n",
    "\n",
    "filtered_data = df_spark.filter(\n",
    "    (df_spark.purchase_date == '2024-09-03') & (df_spark.addons == 1))\n",
    "\n",
    "df = filtered_data.groupBy('gender', 'age').agg(\n",
    "    (F.max('unit_price') - F.min('unit_price')).alias('price_difference'),\n",
    "    (F.max('total_price') - F.min('total_price')).alias('order_difference')\n",
    ")\n",
    "\n",
    "df_collected = df.collect()"
   ]
  },
  {
   "cell_type": "code",
   "execution_count": 21,
   "metadata": {},
   "outputs": [
    {
     "name": "stdout",
     "output_type": "stream",
     "text": [
      "Без кэша 0.11723947525024414\n"
     ]
    }
   ],
   "source": [
    "start_time = time.time()\n",
    "result_no_cache = filtered_data.groupBy('gender', 'age').agg(\n",
    "    (F.max('unit_price') - F.min('unit_price')).alias('price_difference'),\n",
    "    (F.max('total_price') - F.min('total_price')).alias('order_difference')\n",
    ").collect()\n",
    "no_cache_duration = time.time() - start_time\n",
    "print(f\"Без кэша {no_cache_duration}\")"
   ]
  },
  {
   "cell_type": "code",
   "execution_count": 26,
   "metadata": {},
   "outputs": [
    {
     "name": "stdout",
     "output_type": "stream",
     "text": [
      "С кэшем 0.11908555030822754\n"
     ]
    },
    {
     "name": "stderr",
     "output_type": "stream",
     "text": [
      "24/12/17 02:22:15 WARN CacheManager: Asked to cache already cached data.\n"
     ]
    }
   ],
   "source": [
    "filtered_data.cache()\n",
    "start_time = time.time()\n",
    "result_with_cache = filtered_data.groupBy('gender', 'age').agg(\n",
    "    (F.max('unit_price') - F.min('unit_price')).alias('price_difference'),\n",
    "    (F.max('total_price') - F.min('total_price')).alias('order_difference')\n",
    ").collect()\n",
    "cache_duration = time.time() - start_time\n",
    "print(f\"С кэшем {cache_duration}\")"
   ]
  },
  {
   "cell_type": "code",
   "execution_count": 27,
   "metadata": {},
   "outputs": [
    {
     "name": "stdout",
     "output_type": "stream",
     "text": [
      "С контрольной точкой 0.10404419898986816\n"
     ]
    }
   ],
   "source": [
    "filtered_data.checkpoint() \n",
    "start_time = time.time()\n",
    "result_with_checkpoint = filtered_data.groupBy('gender', 'age').agg(\n",
    "    (F.max('unit_price') - F.min('unit_price')).alias('price_difference'),\n",
    "    (F.max('total_price') - F.min('total_price')).alias('order_difference')\n",
    ").collect()\n",
    "checkpoint_duration = time.time() - start_time\n",
    "print(f\"С контрольной точкой {checkpoint_duration}\")"
   ]
  }
 ],
 "metadata": {
  "kernelspec": {
   "display_name": "venv",
   "language": "python",
   "name": "python3"
  },
  "language_info": {
   "codemirror_mode": {
    "name": "ipython",
    "version": 3
   },
   "file_extension": ".py",
   "mimetype": "text/x-python",
   "name": "python",
   "nbconvert_exporter": "python",
   "pygments_lexer": "ipython3",
   "version": "3.12.3"
  }
 },
 "nbformat": 4,
 "nbformat_minor": 2
}
