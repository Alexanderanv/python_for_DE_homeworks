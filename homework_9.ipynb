{
 "cells": [
  {
   "cell_type": "code",
   "execution_count": 11,
   "metadata": {},
   "outputs": [
    {
     "name": "stdout",
     "output_type": "stream",
     "text": [
      "the\n"
     ]
    }
   ],
   "source": [
    "from pyspark.sql import SparkSession\n",
    "from pyspark.sql.functions import col, explode, split, lower, regexp_replace\n",
    "\n",
    "spark = SparkSession.builder.appName(\"Movie Word Count with Preprocessing\").getOrCreate()\n",
    "df = spark.read.csv(\"./materials/hw_9/movies.csv\", header=True)\n",
    "words = df.select(explode(split(regexp_replace(lower(col(\"Film\")), r'[^a-zA-Z0-9\\s]', \"\"), r'\\s+')).alias(\"word\"))\n",
    "\n",
    "word_counts = words.groupBy(\"word\").count()\n",
    "word_count = word_counts.orderBy(col(\"count\").desc()).first()\n",
    "\n",
    "print(word_count['word'])\n",
    "\n",
    "spark.stop()"
   ]
  }
 ],
 "metadata": {
  "kernelspec": {
   "display_name": "venv",
   "language": "python",
   "name": "python3"
  },
  "language_info": {
   "codemirror_mode": {
    "name": "ipython",
    "version": 3
   },
   "file_extension": ".py",
   "mimetype": "text/x-python",
   "name": "python",
   "nbconvert_exporter": "python",
   "pygments_lexer": "ipython3",
   "version": "3.12.3"
  }
 },
 "nbformat": 4,
 "nbformat_minor": 2
}
