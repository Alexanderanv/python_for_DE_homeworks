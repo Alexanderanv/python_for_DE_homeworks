{
 "cells": [
  {
   "cell_type": "code",
   "execution_count": 38,
   "metadata": {},
   "outputs": [],
   "source": [
    "import random\n",
    "import time\n",
    "from kafka import KafkaProducer\n",
    "import json\n",
    "from datetime import datetime\n",
    "\n",
    "actions = [\"login\", \"logout\", \"purchase\", \"click\"]\n",
    "data = []\n",
    "\n",
    "for user_id in range(1, 10):\n",
    "    for _ in range(random.randint(1, 10)):\n",
    "        action = random.choice(actions)\n",
    "        timestamp = datetime.now().isoformat()\n",
    "        data.append({\"user_id\": user_id, \"action\": action, \"timestamp\": timestamp})\n",
    "\n",
    "with open('materials/hw_11/client_actions.json', 'w') as f:\n",
    "    json.dump(data, f)\n",
    "\n",
    "producer = KafkaProducer(\n",
    "    bootstrap_servers='localhost:9092',\n",
    "    value_serializer=lambda v: json.dumps(v).encode('utf-8'),\n",
    "    acks='all',\n",
    "    retries=5,\n",
    "    linger_ms=10\n",
    ")\n",
    "\n",
    "with open('materials/hw_11/client_actions.json') as f:\n",
    "    data = json.load(f)\n",
    "    for record in data:\n",
    "        future = producer.send('test_topic', record)\n",
    "\n",
    "producer.flush()\n",
    "producer.close()"
   ]
  },
  {
   "cell_type": "code",
   "execution_count": 39,
   "metadata": {},
   "outputs": [],
   "source": [
    "from kafka import KafkaConsumer\n",
    "from collections import Counter\n",
    "import json\n",
    "\n",
    "consumer = KafkaConsumer('test_topic',\n",
    "                         bootstrap_servers='localhost:9092',\n",
    "                         auto_offset_reset='latest',\n",
    "                         enable_auto_commit=True,\n",
    "                         group_id='test-group',\n",
    "                         value_deserializer=lambda x: json.loads(x.decode('utf-8')),\n",
    "                         consumer_timeout_ms = 10000)\n"
   ]
  },
  {
   "cell_type": "code",
   "execution_count": 40,
   "metadata": {},
   "outputs": [
    {
     "name": "stdout",
     "output_type": "stream",
     "text": [
      "User ID: 4, Action: purchase, Count: 8\n",
      "User ID: 9, Action: logout, Count: 8\n",
      "User ID: 3, Action: login, Count: 7\n",
      "User ID: 4, Action: login, Count: 7\n",
      "User ID: 7, Action: purchase, Count: 7\n",
      "User ID: 1, Action: purchase, Count: 6\n",
      "User ID: 1, Action: click, Count: 6\n",
      "User ID: 1, Action: logout, Count: 6\n",
      "User ID: 5, Action: login, Count: 6\n",
      "User ID: 7, Action: login, Count: 6\n",
      "User ID: 1, Action: login, Count: 5\n",
      "User ID: 2, Action: logout, Count: 5\n",
      "User ID: 3, Action: purchase, Count: 5\n",
      "User ID: 5, Action: click, Count: 5\n",
      "User ID: 7, Action: click, Count: 5\n",
      "User ID: 8, Action: logout, Count: 5\n",
      "User ID: 3, Action: click, Count: 5\n",
      "User ID: 5, Action: purchase, Count: 5\n",
      "User ID: 2, Action: purchase, Count: 4\n",
      "User ID: 3, Action: logout, Count: 4\n",
      "User ID: 4, Action: logout, Count: 4\n",
      "User ID: 4, Action: click, Count: 4\n",
      "User ID: 8, Action: login, Count: 4\n",
      "User ID: 6, Action: logout, Count: 3\n",
      "User ID: 2, Action: click, Count: 2\n",
      "User ID: 6, Action: login, Count: 2\n",
      "User ID: 9, Action: click, Count: 2\n",
      "User ID: 9, Action: purchase, Count: 2\n",
      "User ID: 2, Action: login, Count: 2\n",
      "User ID: 9, Action: login, Count: 1\n",
      "User ID: 5, Action: logout, Count: 1\n",
      "User ID: 6, Action: click, Count: 1\n",
      "User ID: 8, Action: click, Count: 1\n"
     ]
    }
   ],
   "source": [
    "action_counter = Counter()\n",
    "\n",
    "for message in consumer:\n",
    "    action = message.value['action']\n",
    "    action_counter[(message.value['user_id'], action)] += 1\n",
    "\n",
    "most_active_users = action_counter.most_common()\n",
    "\n",
    "for (user_id, action), count in most_active_users:\n",
    "    print(f'User ID: {user_id}, Action: {action}, Count: {count}')\n",
    "    \n",
    "consumer.close()"
   ]
  }
 ],
 "metadata": {
  "kernelspec": {
   "display_name": "venv",
   "language": "python",
   "name": "python3"
  },
  "language_info": {
   "codemirror_mode": {
    "name": "ipython",
    "version": 3
   },
   "file_extension": ".py",
   "mimetype": "text/x-python",
   "name": "python",
   "nbconvert_exporter": "python",
   "pygments_lexer": "ipython3",
   "version": "3.12.3"
  }
 },
 "nbformat": 4,
 "nbformat_minor": 2
}
