{
 "cells": [
  {
   "cell_type": "markdown",
   "metadata": {},
   "source": [
    "# Task 1"
   ]
  },
  {
   "cell_type": "code",
   "execution_count": 9,
   "metadata": {},
   "outputs": [
    {
     "name": "stdout",
     "output_type": "stream",
     "text": [
      "('1840e0b9d4', 'Продукты')\n",
      "('4e4f90fcfb', 'Электроника')\n"
     ]
    }
   ],
   "source": [
    "import json\n",
    "\n",
    "result = {}\n",
    "\n",
    "with open(r'materials\\hw_1\\purchase_log.txt', 'r', encoding = 'utf-8') as file:\n",
    "\n",
    "    for line in file:\n",
    "              \n",
    "        dict = json.loads(line) \n",
    "        if ('user_id' in dict\n",
    "            and 'category'in dict):\n",
    "            result[dict['user_id']] = dict['category']\n",
    "\n",
    "result.pop('user_id')\n",
    "\n",
    "count = 0\n",
    "\n",
    "for item in result.items():\n",
    "    count += 1\n",
    "    print(item)\n",
    "    if count == 2:\n",
    "        break"
   ]
  },
  {
   "cell_type": "markdown",
   "metadata": {},
   "source": [
    "# Task 2"
   ]
  },
  {
   "cell_type": "code",
   "execution_count": null,
   "metadata": {},
   "outputs": [],
   "source": [
    "with open(r'materials\\hw_1\\visit_log.csv', 'r', encoding = 'utf-8') as file:\n",
    "    "
   ]
  }
 ],
 "metadata": {
  "kernelspec": {
   "display_name": "base",
   "language": "python",
   "name": "python3"
  },
  "language_info": {
   "codemirror_mode": {
    "name": "ipython",
    "version": 3
   },
   "file_extension": ".py",
   "mimetype": "text/x-python",
   "name": "python",
   "nbconvert_exporter": "python",
   "pygments_lexer": "ipython3",
   "version": "3.12.4"
  }
 },
 "nbformat": 4,
 "nbformat_minor": 2
}
