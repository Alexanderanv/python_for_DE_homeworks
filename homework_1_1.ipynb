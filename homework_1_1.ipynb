{
 "cells": [
  {
   "cell_type": "code",
   "execution_count": 65,
   "metadata": {},
   "outputs": [],
   "source": [
    "import json\n",
    "\n",
    "result = {}\n",
    "\n",
    "with open(r'materials\\hw_1\\purchase_log.txt', 'r', encoding = 'utf-8') as file:\n",
    "\n",
    "    count = 0\n",
    "\n",
    "    for line in file:\n",
    "        \n",
    "        count += 1\n",
    "        if count == 1:\n",
    "            continue\n",
    "        \n",
    "        dict = json.loads(line) \n",
    "        if ('user_id' in dict\n",
    "            and 'category'in dict):\n",
    "            result[dict['user_id']] = dict['category']\n",
    "\n"
   ]
  }
 ],
 "metadata": {
  "kernelspec": {
   "display_name": "base",
   "language": "python",
   "name": "python3"
  },
  "language_info": {
   "codemirror_mode": {
    "name": "ipython",
    "version": 3
   },
   "file_extension": ".py",
   "mimetype": "text/x-python",
   "name": "python",
   "nbconvert_exporter": "python",
   "pygments_lexer": "ipython3",
   "version": "3.12.4"
  }
 },
 "nbformat": 4,
 "nbformat_minor": 2
}
