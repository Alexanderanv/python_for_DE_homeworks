{
 "cells": [
  {
   "cell_type": "markdown",
   "metadata": {},
   "source": [
    "# Task 1"
   ]
  },
  {
   "cell_type": "code",
   "execution_count": 16,
   "metadata": {},
   "outputs": [
    {
     "name": "stdout",
     "output_type": "stream",
     "text": [
      "('1840e0b9d4', 'Продукты')\n",
      "('4e4f90fcfb', 'Электроника')\n"
     ]
    }
   ],
   "source": [
    "import json\n",
    "\n",
    "result = {}\n",
    "\n",
    "with open(r'materials\\hw_1\\purchase_log.txt', 'r', encoding = 'utf-8') as file:\n",
    "\n",
    "    for line in file:\n",
    "              \n",
    "        dict = json.loads(line) \n",
    "        if ('user_id' in dict\n",
    "            and 'category'in dict):\n",
    "            result[dict['user_id']] = dict['category']\n",
    "\n",
    "result.pop('user_id')\n",
    "\n",
    "count = 0\n",
    "\n",
    "for item in result.items():\n",
    "    count += 1\n",
    "    print(item)\n",
    "    if count == 2:\n",
    "        break"
   ]
  },
  {
   "cell_type": "markdown",
   "metadata": {},
   "source": [
    "# Task 2"
   ]
  },
  {
   "cell_type": "code",
   "execution_count": 2,
   "metadata": {},
   "outputs": [
    {
     "ename": "NameError",
     "evalue": "name 'result' is not defined",
     "output_type": "error",
     "traceback": [
      "\u001b[1;31m---------------------------------------------------------------------------\u001b[0m",
      "\u001b[1;31mNameError\u001b[0m                                 Traceback (most recent call last)",
      "Cell \u001b[1;32mIn[2], line 11\u001b[0m\n\u001b[0;32m      8\u001b[0m user_id \u001b[38;5;241m=\u001b[39m line_parts[\u001b[38;5;241m0\u001b[39m]\n\u001b[0;32m      9\u001b[0m source \u001b[38;5;241m=\u001b[39m line_parts[\u001b[38;5;241m1\u001b[39m]\n\u001b[1;32m---> 11\u001b[0m \u001b[38;5;28;01mif\u001b[39;00m user_id \u001b[38;5;129;01min\u001b[39;00m \u001b[43mresult\u001b[49m:\n\u001b[0;32m     12\u001b[0m     new_line \u001b[38;5;241m=\u001b[39m \u001b[38;5;124m'\u001b[39m\u001b[38;5;124m,\u001b[39m\u001b[38;5;124m'\u001b[39m\u001b[38;5;241m.\u001b[39mjoin([user_id, source, result[user_id]]) \u001b[38;5;241m+\u001b[39m \u001b[38;5;124m'\u001b[39m\u001b[38;5;130;01m\\n\u001b[39;00m\u001b[38;5;124m'\u001b[39m\n\u001b[0;32m     13\u001b[0m     funnel\u001b[38;5;241m.\u001b[39mwrite(new_line)\n",
      "\u001b[1;31mNameError\u001b[0m: name 'result' is not defined"
     ]
    }
   ],
   "source": [
    "with open(r'materials\\hw_1\\funnel.csv', 'w', encoding = 'utf-8') as funnel:\n",
    "    funnel.write('user_id,source,category\\n')\n",
    "\n",
    "    with open(r'materials\\hw_1\\visit_log.csv', 'r', encoding = 'utf-8') as visit_log:\n",
    "        for line in visit_log:\n",
    "            \n",
    "            line_parts = line.strip().split(',')\n",
    "            user_id = line_parts[0]\n",
    "            source = line_parts[1]\n",
    "\n",
    "            if user_id in result:\n",
    "                new_line = ','.join([user_id, source, result[user_id]]) + '\\n'\n",
    "                funnel.write(new_line)\n",
    "\n",
    "    visit_log.close()\n",
    "\n",
    "funnel.close()"
   ]
  }
 ],
 "metadata": {
  "kernelspec": {
   "display_name": "base",
   "language": "python",
   "name": "python3"
  },
  "language_info": {
   "codemirror_mode": {
    "name": "ipython",
    "version": 3
   },
   "file_extension": ".py",
   "mimetype": "text/x-python",
   "name": "python",
   "nbconvert_exporter": "python",
   "pygments_lexer": "ipython3",
   "version": "3.12.4"
  }
 },
 "nbformat": 4,
 "nbformat_minor": 2
}
