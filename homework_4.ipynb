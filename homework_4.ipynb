{
 "cells": [
  {
   "cell_type": "markdown",
   "metadata": {},
   "source": [
    "# Задание 1"
   ]
  },
  {
   "cell_type": "code",
   "execution_count": 23,
   "metadata": {},
   "outputs": [
    {
     "name": "stdout",
     "output_type": "stream",
     "text": [
      "Номер А222BС валиден. Регион: А222BС.\n",
      "Номер не валиден\n"
     ]
    }
   ],
   "source": [
    "import re\n",
    "\n",
    "def number_is_valid(car_id: str) -> str:\n",
    "  \n",
    "    number_pattern = r'^([АВЕКМНОРСТУХ]|[ABEKMHOPCTYX])\\d{3}(?<!000)([АВЕКМНОРСТУХ]|[ABEKMHOPCTYX]){2}'\n",
    "    region_pattern = r'\\d{2,3}$'\n",
    "    check_pattern = r'^([АВЕКМНОРСТУХ]|[ABEKMHOPCTYX])\\d{3}(?<!000)([АВЕКМНОРСТУХ]|[ABEKMHOPCTYX]){2}\\d{2,3}$'\n",
    "\n",
    "    match = re.match(check_pattern, car_id)\n",
    "    if not match:\n",
    "        return 'Номер не валиден'\n",
    "    \n",
    "    number = re.match(number_pattern, car_id).group()\n",
    "    region = re.match(number_pattern, car_id).group()\n",
    "\n",
    "    return f'Номер {number} валиден. Регион: {region}.'\n",
    "    \n",
    "car_id = 'А222BС96'\n",
    "print(number_is_valid(car_id))\n",
    "\n",
    "car_id = 'АБ22ВВ193'\n",
    "print(number_is_valid(car_id))\n",
    "    "
   ]
  },
  {
   "cell_type": "markdown",
   "metadata": {},
   "source": [
    "# Задание 2"
   ]
  },
  {
   "cell_type": "code",
   "execution_count": 28,
   "metadata": {},
   "outputs": [
    {
     "name": "stdout",
     "output_type": "stream",
     "text": [
      "Напишите функцию, которая будет удалять все\n",
      "последовательные повторы слов из заданной\n",
      "строки при помощи регулярных выражений\n"
     ]
    }
   ],
   "source": [
    "import re\n",
    "\n",
    "def remove_doubles(some_string: str) -> str:\n",
    "    pattern = r'(\\w+)(\\s+\\1)+'\n",
    "    return re.sub(pattern, r'\\1', some_string)\n",
    "\n",
    "some_string = \"\"\"Напишите функцию функцию, которая будет\n",
    "будет будет будет удалять все все все все\n",
    "последовательные повторы слов из из из из заданной\n",
    "строки строки при помощи регулярных выражений\"\"\"\n",
    "\n",
    "print(remove_doubles(some_string))"
   ]
  }
 ],
 "metadata": {
  "kernelspec": {
   "display_name": "base",
   "language": "python",
   "name": "python3"
  },
  "language_info": {
   "codemirror_mode": {
    "name": "ipython",
    "version": 3
   },
   "file_extension": ".py",
   "mimetype": "text/x-python",
   "name": "python",
   "nbconvert_exporter": "python",
   "pygments_lexer": "ipython3",
   "version": "3.12.4"
  }
 },
 "nbformat": 4,
 "nbformat_minor": 2
}
