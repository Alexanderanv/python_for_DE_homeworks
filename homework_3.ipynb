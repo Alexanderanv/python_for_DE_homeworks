{
 "cells": [
  {
   "cell_type": "code",
<<<<<<< HEAD
   "execution_count": 47,
=======
<<<<<<< HEAD
   "execution_count": 47,
=======
   "execution_count": 10,
>>>>>>> ecd0d3f83159640d43e6ed2e8c015d085b1d3def
>>>>>>> 9aacb64370c6441692466fb896b31ca6b199e18a
   "metadata": {},
   "outputs": [
    {
     "name": "stdout",
     "output_type": "stream",
     "text": [
<<<<<<< HEAD
=======
<<<<<<< HEAD
>>>>>>> 9aacb64370c6441692466fb896b31ca6b199e18a
      "Bank account \"Test\", balance 10.01\n",
      "Bank account \"Test\", balance 20.01\n",
      "Bank account \"Test\", balance 0.01\n",
      "+----------------------------+-----------------+-----------+---------------+\n",
      "|           period           | initial_balance | cash_flow | final_balance |\n",
      "+----------------------------+-----------------+-----------+---------------+\n",
      "| 2024-10-05 19:30:26.768336 |        0        |   10.01   |     10.01     |\n",
      "| 2024-10-05 19:30:26.769248 |      10.01      |     10    |     20.01     |\n",
      "| 2024-10-05 19:30:26.769248 |      20.01      |    -20    |      0.01     |\n",
      "+----------------------------+-----------------+-----------+---------------+\n"
<<<<<<< HEAD
=======
=======
      "Bank account \"Test\", balance 10.01\n"
>>>>>>> ecd0d3f83159640d43e6ed2e8c015d085b1d3def
>>>>>>> 9aacb64370c6441692466fb896b31ca6b199e18a
     ]
    }
   ],
   "source": [
<<<<<<< HEAD
=======
<<<<<<< HEAD
>>>>>>> 9aacb64370c6441692466fb896b31ca6b199e18a
    "from prettytable import PrettyTable\n",
    "from datetime import datetime as datetime\n",
    "\n",
    "class BankAccount:\n",
    "\n",
    "    def __init__(self, name: str, start_balance: float = 0):\n",
    "        self.__name: str = name\n",
    "        self.__balance: float = 0\n",
    "        self.__operations_history = PrettyTable()\n",
    "        self.__operations_history.field_names = ['period', 'initial_balance', 'cash_flow', 'final_balance']\n",
    "        self.__change_balance(start_balance)\n",
<<<<<<< HEAD
=======
=======
    "class BankAccount:\n",
    "\n",
    "    def __init__(self, name: str, start_balance: float):\n",
    "        self.__name = name\n",
    "        self.__balance = round(start_balance, 2)\n",
>>>>>>> ecd0d3f83159640d43e6ed2e8c015d085b1d3def
>>>>>>> 9aacb64370c6441692466fb896b31ca6b199e18a
    "\n",
    "    def __repr__(self) -> str:\n",
    "        return f'Bank account \"{self.__name}\", balance {self.__balance}'\n",
    "    \n",
    "    def __str__(self) -> str:\n",
    "        return f'Bank account \"{self.__name}\"'\n",
    "    \n",
    "    def put_money(self, amount: float):\n",
    "        if (amount <= 0):\n",
    "            raise Exception('Incorrect replenishment amount')\n",
    "        else:\n",
    "            self.__change_balance(amount)    \n",
    "\n",
    "    def withdrow_money(self, amount: float):\n",
<<<<<<< HEAD
=======
<<<<<<< HEAD
>>>>>>> 9aacb64370c6441692466fb896b31ca6b199e18a
    "        if (self.__balance < amount):\n",
    "            raise Exception('Not enough money in the account')\n",
    "        else:\n",
    "            self.__change_balance(-amount)\n",
    "    \n",
    "    def print_operations_history(self) -> None:\n",
    "        print(self.__operations_history)\n",
    "\n",
    "    def __change_balance(self, amount: float):\n",
    "        new_balance = round(self.__balance + amount, 2)\n",
    "        self.__operations_history.add_row([datetime.today(), self.__balance, amount, new_balance])\n",
    "        self.__balance = new_balance       \n",
    "    \n",
    "account = BankAccount(name='Test', start_balance=10.01)\n",
    "print(repr(account))\n",
    "account.put_money(10)\n",
    "print(repr(account))\n",
    "account.withdrow_money(20)\n",
    "print(repr(account))\n",
    "account.print_operations_history()"
<<<<<<< HEAD
=======
=======
    "        new_balance = \n",
    "        if (amount <= 0):\n",
    "            raise Exception('Incorrect replenishment amount')\n",
    "        else:\n",
    "            self.__change_balance(amount)\n",
    "\n",
    "    def __change_balance(self, amount: float):\n",
    "        self.__balance = round(self.__balance + amount, 2)        \n",
    "        \n",
    "    \n",
    "b = BankAccount(name='Test', start_balance=10.01)\n",
    "print(repr(b))"
>>>>>>> ecd0d3f83159640d43e6ed2e8c015d085b1d3def
>>>>>>> 9aacb64370c6441692466fb896b31ca6b199e18a
   ]
  }
 ],
 "metadata": {
  "kernelspec": {
   "display_name": "base",
   "language": "python",
   "name": "python3"
  },
  "language_info": {
   "codemirror_mode": {
    "name": "ipython",
    "version": 3
   },
   "file_extension": ".py",
   "mimetype": "text/x-python",
   "name": "python",
   "nbconvert_exporter": "python",
   "pygments_lexer": "ipython3",
   "version": "3.12.4"
  }
 },
 "nbformat": 4,
 "nbformat_minor": 2
}
