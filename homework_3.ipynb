{
 "cells": [
  {
   "cell_type": "code",
   "execution_count": 10,
   "metadata": {},
   "outputs": [
    {
     "name": "stdout",
     "output_type": "stream",
     "text": [
      "Bank account \"Test\", balance 10.01\n"
     ]
    }
   ],
   "source": [
    "class BankAccount:\n",
    "\n",
    "    def __init__(self, name: str, start_balance: float):\n",
    "        self.__name = name\n",
    "        self.__balance = round(start_balance, 2)\n",
    "\n",
    "    def __repr__(self) -> str:\n",
    "        return f'Bank account \"{self.__name}\", balance {self.__balance}'\n",
    "    \n",
    "    def __str__(self) -> str:\n",
    "        return f'Bank account \"{self.__name}\"'\n",
    "    \n",
    "    def put_money(self, amount: float):\n",
    "        if (amount <= 0):\n",
    "            raise Exception('Incorrect replenishment amount')\n",
    "        else:\n",
    "            self.__change_balance(amount)    \n",
    "\n",
    "    def withdrow_money(self, amount: float):\n",
    "        new_balance = \n",
    "        if (amount <= 0):\n",
    "            raise Exception('Incorrect replenishment amount')\n",
    "        else:\n",
    "            self.__change_balance(amount)\n",
    "\n",
    "    def __change_balance(self, amount: float):\n",
    "        self.__balance = round(self.__balance + amount, 2)        \n",
    "        \n",
    "    \n",
    "b = BankAccount(name='Test', start_balance=10.01)\n",
    "print(repr(b))"
   ]
  }
 ],
 "metadata": {
  "kernelspec": {
   "display_name": "base",
   "language": "python",
   "name": "python3"
  },
  "language_info": {
   "codemirror_mode": {
    "name": "ipython",
    "version": 3
   },
   "file_extension": ".py",
   "mimetype": "text/x-python",
   "name": "python",
   "nbconvert_exporter": "python",
   "pygments_lexer": "ipython3",
   "version": "3.12.4"
  }
 },
 "nbformat": 4,
 "nbformat_minor": 2
}
