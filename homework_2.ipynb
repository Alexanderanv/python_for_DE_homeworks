{
 "cells": [
  {
   "cell_type": "markdown",
   "metadata": {},
   "source": [
    "# Task 1"
   ]
  },
  {
   "cell_type": "code",
   "execution_count": 3,
   "metadata": {},
   "outputs": [
    {
     "name": "stdout",
     "output_type": "stream",
     "text": [
      "2002-10-02 00:00:00\n",
      "2013-10-11 00:00:00\n",
      "1977-08-18 00:00:00\n"
     ]
    }
   ],
   "source": [
    "from datetime import datetime as dt\n",
    "\n",
    "tmt_input_date = 'Wednesday, October 2, 2002'\n",
    "tg_input_date = 'Friday, 11.10.13'\n",
    "dn_input_date = 'Thursday, 18 August 1977'\n",
    "\n",
    "tmt_date = dt.strptime(tmt_input_date, '%A, %B %d, %Y')\n",
    "tg_date = dt.strptime(tg_input_date, '%A, %d.%m.%y')\n",
    "dn_date = dt.strptime(dn_input_date, '%A, %d %B %Y')\n",
    "\n",
    "print(tmt_date)\n",
    "print(tg_date)\n",
    "print(dn_date)"
   ]
  },
  {
   "cell_type": "markdown",
   "metadata": {},
   "source": [
    "# Task 2"
   ]
  },
  {
   "cell_type": "code",
   "execution_count": 21,
   "metadata": {},
   "outputs": [
    {
     "name": "stdout",
     "output_type": "stream",
     "text": [
      "['2022-01-01', '2022-01-02', '2022-01-03']\n",
      "[]\n",
      "[]\n"
     ]
    }
   ],
   "source": [
    "from datetime import datetime as datetime\n",
    "from datetime import timedelta as timedelta\n",
    "\n",
    "def date_range(start_date, end_date):\n",
    "    datelist = []\n",
    "\n",
    "    try:\n",
    "        start = datetime.strptime(start_date, '%Y-%m-%d')\n",
    "        end = datetime.strptime(end_date, '%Y-%m-%d')\n",
    "    except:\n",
    "        return datelist\n",
    "    \n",
    "    if start > end:\n",
    "            datelist\n",
    "        \n",
    "    delta = timedelta(days = 1)\n",
    "\n",
    "    while start <= end:\n",
    "        datelist.append(start.strftime('%Y-%m-%d'))\n",
    "        start = start + delta\n",
    "\n",
    "    return datelist\n",
    "\n",
    "print(date_range('2022-01-01', '2022-01-03'))\n",
    "print(date_range('2022-01-03', '2022-01-01'))\n",
    "print(date_range('2022-02-30', '2022-02-31'))\n",
    "\n",
    "     \n",
    "        "
   ]
  }
 ],
 "metadata": {
  "kernelspec": {
   "display_name": "base",
   "language": "python",
   "name": "python3"
  },
  "language_info": {
   "codemirror_mode": {
    "name": "ipython",
    "version": 3
   },
   "file_extension": ".py",
   "mimetype": "text/x-python",
   "name": "python",
   "nbconvert_exporter": "python",
   "pygments_lexer": "ipython3",
   "version": "3.12.4"
  }
 },
 "nbformat": 4,
 "nbformat_minor": 2
}
